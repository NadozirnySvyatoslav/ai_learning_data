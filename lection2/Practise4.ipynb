{
 "cells": [
  {
   "cell_type": "code",
   "execution_count": 2,
   "id": "de7d5c33",
   "metadata": {},
   "outputs": [],
   "source": [
    "from lxml import etree \n",
    "import json\n",
    "import pandas as pd\n",
    "\n",
    "\n",
    "tree = etree.parse(\"price_2024-05-13_11_30_08_379050.xml\")\n",
    "\n",
    "root = tree.getroot()\n",
    "categories={}\n",
    "\n",
    "products=pd.DataFrame([], columns=['Code','Category','Subcategory','Name','Price'])\n",
    "\n",
    "for vendor in root:\n",
    "    for product in vendor:\n",
    "        category,subcategory, pname, price, code=None,None,None,None,None\n",
    "        for e in product:\n",
    "            if e.tag=='category':\n",
    "                category=e.text\n",
    "            if e.tag=='subcategory':\n",
    "                subcategory=e.text\n",
    "            if e.tag=='rprice':\n",
    "                price=float(e.text.replace(',','.'))\n",
    "            if e.tag=='gname':\n",
    "                pname=e.text\n",
    "            if e.tag=='code':\n",
    "                code=e.text\n",
    "        if not category in categories:\n",
    "            categories[category]=[]\n",
    "        if not subcategory in categories[category]:\n",
    "            categories[category].append(subcategory)\n",
    "\n",
    "        if category in ['СПОЖИВЧІ ТОВАРИ І ЕЛЕКТРОНІКА']:\n",
    "            if subcategory in ['Електросамокати','Клавіатури дротові','Миші дротові','Ноутбуки для бізнесу',\n",
    "                              'Клавіатури бездротові','Навушники TWS','Смарт годинники',\n",
    "                              'Комп\\'ютери споживчі','Ноутбуки споживчі','Моноблоки','Смартфони',\n",
    "                              'Планшети','Робочі станції']:\n",
    "                products.loc[len(products)]=[code,category,subcategory,pname,price]\n",
    "\n",
    "products.to_csv('erc_products.csv')"
   ]
  },
  {
   "cell_type": "code",
   "execution_count": 9,
   "id": "ad1a8ec4",
   "metadata": {},
   "outputs": [
    {
     "name": "stdout",
     "output_type": "stream",
     "text": [
      "['soundform' 'space' 'spark' 'spear' 'spectre' 'speed' 'spin' 'sponge'\n",
      " 'sport' 'sq' 'ssd' 'star' 'starfish' 'starry' 'stealth' 'steelseries'\n",
      " 'striker' 'strix' 'studio' 'summit' 'sunset' 'surface' 'surge' 'sva'\n",
      " 'swap' 'swappable' 'swift' 'switch' 't1' 't1000' 't14' 't14s' 't16'\n",
      " 't3plus' 't40' 't400' 't45hd' 't50' 't60' 't610k2' 't676h' 't676k'\n",
      " 'taa5508' 'tab' 'tabmax' 'tat1108' 'tat1138' 'tat1207' 'tat1209'\n",
      " 'tat2206' 'tat3508' 'tcl' 'tech' 'teclast' 'tecno' 'tempest' 'temporal'\n",
      " 'tft' 'the' 'thin' 'thinkbook' 'thinkpad' 'titan' 'tkl' 'tmp215' 'tmp216'\n",
      " 'tmp416' 'tmp614' 'tmp614p' 'tmq0108' 'tokyo' 'tone' 'touch' 'toughpad'\n",
      " 'tour' 'travel' 'travelmate' 'trinity' 'triton' 'true' 'trust' 'ttc'\n",
      " 'tuf' 'twilight' 'twr' 'tws' 'tws150i' 'tws250i' 'type' 'u5' 'u7' 'u9'\n",
      " 'ua' 'uhd' 'uk' 'ukr' 'ukrainian' 'ultra' 'um3402ya' 'um5302la']\n"
     ]
    }
   ],
   "source": [
    "from sklearn.feature_extraction.text import TfidfVectorizer, CountVectorizer\n",
    "from sklearn.metrics.pairwise import cosine_similarity\n",
    "import numpy as np\n",
    "\n",
    "products.reset_index(drop=True, inplace=True)\n",
    "products.head(10)\n",
    "\n",
    "\n",
    "\n",
    "ukrainian_stop_words=open('stopwords_ua.txt','r+').read().split('\\n')\n",
    "\n",
    "tfidf = TfidfVectorizer(stop_words=ukrainian_stop_words)\n",
    "tfidf_matrix = tfidf.fit_transform(products['Name'])\n",
    "voc=tfidf.get_feature_names_out()\n",
    "\n",
    "print(voc[1500:1600])"
   ]
  },
  {
   "cell_type": "code",
   "execution_count": 146,
   "id": "89c4e0ab",
   "metadata": {},
   "outputs": [
    {
     "name": "stdout",
     "output_type": "stream",
     "text": [
      "Ноутбук 2E Imaginary 15.6\" FHD IPS AG, Intel i5-1235U, 8GB, F256GB, UMA, Win11, черный 26999.0 P: 0.621\n",
      "Ноутбук 2E Imaginary 15.6\" FHD IPS AG, Intel i5-1235U, 8GB, F256GB, UMA, DOS, черный 19499.0 P: 0.619\n",
      "Ноутбук 2E Imaginary 15.6\" FHD IPS AG, Intel i5-1235U, 8GB, F256GB, UMA, Win11P, черный 27999.0 P: 0.615\n",
      "Ноутбук HP 250-G9 15.6\" FHD AG, Intel i5-1235U, 8GB, F256GB, UMA, Win11, сріблястий 27999.0 P: 0.607\n",
      "Ноутбук HP 250-G9 15.6\" FHD IPS AG, Intel i5-1235U, 8GB, F256GB, UMA, DOS, сріблястий 21999.0 P: 0.594\n",
      "Ноутбук Lenovo V15-G3 15.6\" FHD IPS AG, Intel i5-1235U, 8GB, F256GB, UMA, Win11P, чорний 27599.0 P: 0.573\n",
      "Ноутбук Lenovo V15-G3 15.6\" FHD IPS AG, Intel i5-1235U, 16GB, F256GB, UMA, DOS, чорний 21799.0 P: 0.520\n",
      "Ноутбук Lenovo V15-G3 15.6\" FHD IPS AG, Intel i5-1235U, 16GB, F256GB, UMA, Win11P, чорний 27999.0 P: 0.516\n",
      "Ноутбук 2E Imaginary 15.6\" FHD IPS AG, Intel i5-1235U, 8GB, F512GB, UMA, DOS, черный 19999.0 P: 0.515\n",
      "Ноутбук HP 15-fd0058ua 15.6\" FHD IPS AG, Intel i5-1235U, 16GB, F512GB, UMA, DOS, білий 24999.0 P: 0.476\n"
     ]
    }
   ],
   "source": [
    "search_product=tfidf.transform(['Ноутбук 15.6\" Intel i5-1235U 8GB F256GB'])\n",
    "cosine_sim2 = cosine_similarity(search_product, tfidf_matrix)\n",
    "sim_scores2 = list(enumerate(cosine_sim2[0]))\n",
    "sim_scores2 = sorted(sim_scores2, key=lambda x: x[1], reverse=True)\n",
    "\n",
    "for i in sim_scores2[:10]:\n",
    "    code, category,subcategory,name,price = products.loc[i[0]]\n",
    "    print(f\"{name} {price} P: {i[1]:0.3f}\")\n",
    "    "
   ]
  },
  {
   "cell_type": "code",
   "execution_count": 96,
   "id": "1c1fe6e8",
   "metadata": {},
   "outputs": [
    {
     "data": {
      "text/plain": [
       "array([0., 0., 0., ..., 0., 0., 0.])"
      ]
     },
     "execution_count": 96,
     "metadata": {},
     "output_type": "execute_result"
    }
   ],
   "source": [
    "\n",
    "\n"
   ]
  },
  {
   "cell_type": "code",
   "execution_count": null,
   "id": "561cb949",
   "metadata": {},
   "outputs": [],
   "source": []
  }
 ],
 "metadata": {
  "kernelspec": {
   "display_name": "Python 3 (ipykernel)",
   "language": "python",
   "name": "python3"
  },
  "language_info": {
   "codemirror_mode": {
    "name": "ipython",
    "version": 3
   },
   "file_extension": ".py",
   "mimetype": "text/x-python",
   "name": "python",
   "nbconvert_exporter": "python",
   "pygments_lexer": "ipython3",
   "version": "3.11.5"
  }
 },
 "nbformat": 4,
 "nbformat_minor": 5
}
